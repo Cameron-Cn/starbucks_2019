{
 "cells": [
  {
   "cell_type": "markdown",
   "metadata": {},
   "source": [
    "# Starbucks Prediction\n",
    "### 2019 July 8\n",
    "`Group 2`"
   ]
  },
  {
   "cell_type": "code",
   "execution_count": 1,
   "metadata": {},
   "outputs": [],
   "source": [
    "# beginning off by importing our libraries, as per usual\n",
    "import pandas as pd\n",
    "import numpy as np\n",
    "import matplotlib.pyplot as plt\n",
    "import geopandas as gpd\n",
    "import seaborn as sns\n",
    "import statsmodels.formula.api as smf\n",
    "\n",
    "from datetime import datetime\n",
    "from sklearn.linear_model import LogisticRegression\n",
    "from sklearn.model_selection import train_test_split\n",
    "from sklearn.metrics import classification_report\n",
    "from sklearn.metrics import confusion_matrix\n",
    "from sklearn.naive_bayes import GaussianNB   #import Gaussian Bayes modeling function\n",
    "from sklearn.metrics import accuracy_score\n",
    "from sklearn.naive_bayes import BernoulliNB\n",
    "from pandas import read_excel\n",
    "\n",
    "%matplotlib inline"
   ]
  },
  {
   "cell_type": "code",
   "execution_count": 2,
   "metadata": {},
   "outputs": [
    {
     "name": "stdout",
     "output_type": "stream",
     "text": [
      "         date    open    high     low   close     volume\n",
      "0  1992-06-26  0.3281  0.3477  0.3203  0.3359  224358400\n",
      "1  1992-06-29  0.3398  0.3672  0.3320  0.3594   58732800\n",
      "2  1992-06-30  0.3672  0.3711  0.3438  0.3477   34777600\n",
      "3  1992-07-01  0.3516  0.3594  0.3398  0.3555   18316800\n",
      "4  1992-07-02  0.3594  0.3594  0.3477  0.3555   13996800 \n",
      "-------\n",
      "             date   open     high    low  close   volume\n",
      "6801  2019-06-28  83.56  83.9600  83.32  83.83  6735620\n",
      "6802  2019-07-01  84.62  84.9600  84.03  84.55  7940539\n",
      "6803  2019-07-02  84.74  85.5900  84.52  85.51  6206087\n",
      "6804  2019-07-03  86.04  87.8200  85.98  87.79  7818552\n",
      "6805  2019-07-05  87.50  87.8855  86.88  87.79  5733239\n"
     ]
    }
   ],
   "source": [
    "macrotr = \"MacroTrends_Data_SBUX.csv\"\n",
    "\n",
    "stockAll = pd.read_csv(macrotr)\n",
    "print(stockAll.head(),\n",
    "      '\\n-------\\n',\n",
    "      stockAll.tail())"
   ]
  },
  {
   "cell_type": "code",
   "execution_count": 3,
   "metadata": {},
   "outputs": [
    {
     "data": {
      "text/html": [
       "<div>\n",
       "<style scoped>\n",
       "    .dataframe tbody tr th:only-of-type {\n",
       "        vertical-align: middle;\n",
       "    }\n",
       "\n",
       "    .dataframe tbody tr th {\n",
       "        vertical-align: top;\n",
       "    }\n",
       "\n",
       "    .dataframe thead th {\n",
       "        text-align: right;\n",
       "    }\n",
       "</style>\n",
       "<table border=\"1\" class=\"dataframe\">\n",
       "  <thead>\n",
       "    <tr style=\"text-align: right;\">\n",
       "      <th></th>\n",
       "      <th>Year</th>\n",
       "      <th>Revenue in billion U.S. dollars</th>\n",
       "    </tr>\n",
       "  </thead>\n",
       "  <tbody>\n",
       "    <tr>\n",
       "      <th>0</th>\n",
       "      <td>2003</td>\n",
       "      <td>4.10</td>\n",
       "    </tr>\n",
       "    <tr>\n",
       "      <th>1</th>\n",
       "      <td>2004</td>\n",
       "      <td>5.30</td>\n",
       "    </tr>\n",
       "    <tr>\n",
       "      <th>2</th>\n",
       "      <td>2005</td>\n",
       "      <td>6.40</td>\n",
       "    </tr>\n",
       "    <tr>\n",
       "      <th>3</th>\n",
       "      <td>2006</td>\n",
       "      <td>7.80</td>\n",
       "    </tr>\n",
       "    <tr>\n",
       "      <th>4</th>\n",
       "      <td>2007</td>\n",
       "      <td>9.40</td>\n",
       "    </tr>\n",
       "    <tr>\n",
       "      <th>5</th>\n",
       "      <td>2008</td>\n",
       "      <td>10.40</td>\n",
       "    </tr>\n",
       "    <tr>\n",
       "      <th>6</th>\n",
       "      <td>2009</td>\n",
       "      <td>9.80</td>\n",
       "    </tr>\n",
       "    <tr>\n",
       "      <th>7</th>\n",
       "      <td>2010</td>\n",
       "      <td>10.70</td>\n",
       "    </tr>\n",
       "    <tr>\n",
       "      <th>8</th>\n",
       "      <td>2011</td>\n",
       "      <td>11.70</td>\n",
       "    </tr>\n",
       "    <tr>\n",
       "      <th>9</th>\n",
       "      <td>2012</td>\n",
       "      <td>13.30</td>\n",
       "    </tr>\n",
       "    <tr>\n",
       "      <th>10</th>\n",
       "      <td>2013</td>\n",
       "      <td>14.90</td>\n",
       "    </tr>\n",
       "    <tr>\n",
       "      <th>11</th>\n",
       "      <td>2014</td>\n",
       "      <td>16.45</td>\n",
       "    </tr>\n",
       "    <tr>\n",
       "      <th>12</th>\n",
       "      <td>2015</td>\n",
       "      <td>19.16</td>\n",
       "    </tr>\n",
       "    <tr>\n",
       "      <th>13</th>\n",
       "      <td>2016</td>\n",
       "      <td>21.32</td>\n",
       "    </tr>\n",
       "    <tr>\n",
       "      <th>14</th>\n",
       "      <td>2017</td>\n",
       "      <td>22.39</td>\n",
       "    </tr>\n",
       "    <tr>\n",
       "      <th>15</th>\n",
       "      <td>2018</td>\n",
       "      <td>24.72</td>\n",
       "    </tr>\n",
       "  </tbody>\n",
       "</table>\n",
       "</div>"
      ],
      "text/plain": [
       "    Year  Revenue in billion U.S. dollars\n",
       "0   2003                             4.10\n",
       "1   2004                             5.30\n",
       "2   2005                             6.40\n",
       "3   2006                             7.80\n",
       "4   2007                             9.40\n",
       "5   2008                            10.40\n",
       "6   2009                             9.80\n",
       "7   2010                            10.70\n",
       "8   2011                            11.70\n",
       "9   2012                            13.30\n",
       "10  2013                            14.90\n",
       "11  2014                            16.45\n",
       "12  2015                            19.16\n",
       "13  2016                            21.32\n",
       "14  2017                            22.39\n",
       "15  2018                            24.72"
      ]
     },
     "execution_count": 3,
     "metadata": {},
     "output_type": "execute_result"
    }
   ],
   "source": [
    "sale1 = \"sales.csv\"            # not the most useful, but alright\n",
    "sales = pd.read_csv(sale1)\n",
    "sales"
   ]
  },
  {
   "cell_type": "code",
   "execution_count": 4,
   "metadata": {},
   "outputs": [
    {
     "name": "stdout",
     "output_type": "stream",
     "text": [
      "         date  coffeePrice\n",
      "0  1973-08-20       0.6735\n",
      "1  1973-08-21       0.6710\n",
      "2  1973-08-22       0.6580\n",
      "3  1973-08-23       0.6675\n",
      "4  1973-08-24       0.6660 \n",
      "-----\n",
      "              date  coffeePrice\n",
      "11485  2019-07-02       1.0965\n",
      "11486  2019-07-03       1.1365\n",
      "11487  2019-07-04       1.1365\n",
      "11488  2019-07-05       1.1110\n",
      "11489  2019-07-08       1.0640\n"
     ]
    }
   ],
   "source": [
    "coff33 = \"coffee_price.csv\"\n",
    "cofe = pd.read_csv(coff33)\n",
    "print(cofe.head(),\n",
    "      '\\n-----\\n',\n",
    "      cofe.tail())"
   ]
  },
  {
   "cell_type": "code",
   "execution_count": 5,
   "metadata": {},
   "outputs": [],
   "source": [
    "cofe = cofe[cofe['date'] > '1992-06-26']"
   ]
  },
  {
   "cell_type": "code",
   "execution_count": 6,
   "metadata": {},
   "outputs": [
    {
     "data": {
      "text/html": [
       "<div>\n",
       "<style scoped>\n",
       "    .dataframe tbody tr th:only-of-type {\n",
       "        vertical-align: middle;\n",
       "    }\n",
       "\n",
       "    .dataframe tbody tr th {\n",
       "        vertical-align: top;\n",
       "    }\n",
       "\n",
       "    .dataframe thead th {\n",
       "        text-align: right;\n",
       "    }\n",
       "</style>\n",
       "<table border=\"1\" class=\"dataframe\">\n",
       "  <thead>\n",
       "    <tr style=\"text-align: right;\">\n",
       "      <th></th>\n",
       "      <th>date</th>\n",
       "      <th>coffeePrice</th>\n",
       "    </tr>\n",
       "  </thead>\n",
       "  <tbody>\n",
       "    <tr>\n",
       "      <th>4715</th>\n",
       "      <td>1992-06-29</td>\n",
       "      <td>0.5774</td>\n",
       "    </tr>\n",
       "    <tr>\n",
       "      <th>4716</th>\n",
       "      <td>1992-06-30</td>\n",
       "      <td>0.5760</td>\n",
       "    </tr>\n",
       "    <tr>\n",
       "      <th>4717</th>\n",
       "      <td>1992-07-01</td>\n",
       "      <td>0.5940</td>\n",
       "    </tr>\n",
       "    <tr>\n",
       "      <th>4718</th>\n",
       "      <td>1992-07-02</td>\n",
       "      <td>0.6000</td>\n",
       "    </tr>\n",
       "    <tr>\n",
       "      <th>4719</th>\n",
       "      <td>1992-07-06</td>\n",
       "      <td>0.5930</td>\n",
       "    </tr>\n",
       "  </tbody>\n",
       "</table>\n",
       "</div>"
      ],
      "text/plain": [
       "            date  coffeePrice\n",
       "4715  1992-06-29       0.5774\n",
       "4716  1992-06-30       0.5760\n",
       "4717  1992-07-01       0.5940\n",
       "4718  1992-07-02       0.6000\n",
       "4719  1992-07-06       0.5930"
      ]
     },
     "execution_count": 6,
     "metadata": {},
     "output_type": "execute_result"
    }
   ],
   "source": [
    "cofe.head()"
   ]
  },
  {
   "cell_type": "code",
   "execution_count": 7,
   "metadata": {},
   "outputs": [],
   "source": [
    "cofeAll = pd.merge(stockAll, cofe, on='date')"
   ]
  },
  {
   "cell_type": "code",
   "execution_count": 8,
   "metadata": {},
   "outputs": [
    {
     "name": "stdout",
     "output_type": "stream",
     "text": [
      "         date    open    high     low   close    volume  coffeePrice\n",
      "0  1992-06-29  0.3398  0.3672  0.3320  0.3594  58732800       0.5774\n",
      "1  1992-06-30  0.3672  0.3711  0.3438  0.3477  34777600       0.5760\n",
      "2  1992-07-01  0.3516  0.3594  0.3398  0.3555  18316800       0.5940\n",
      "3  1992-07-02  0.3594  0.3594  0.3477  0.3555  13996800       0.6000\n",
      "4  1992-07-06  0.3516  0.3555  0.3477  0.3555   5753600       0.5930 \n",
      "-----\n",
      "             date   open     high    low  close   volume  coffeePrice\n",
      "6762  2019-06-28  83.56  83.9600  83.32  83.83  6735620       1.0921\n",
      "6763  2019-07-01  84.62  84.9600  84.03  84.55  7940539       1.1135\n",
      "6764  2019-07-02  84.74  85.5900  84.52  85.51  6206087       1.0965\n",
      "6765  2019-07-03  86.04  87.8200  85.98  87.79  7818552       1.1365\n",
      "6766  2019-07-05  87.50  87.8855  86.88  87.79  5733239       1.1110\n"
     ]
    }
   ],
   "source": [
    "print(cofeAll.head(),\n",
    "      '\\n-----\\n',\n",
    "      cofeAll.tail())"
   ]
  },
  {
   "cell_type": "code",
   "execution_count": 9,
   "metadata": {},
   "outputs": [],
   "source": [
    "#cofeAll.to_csv(\"coffee_and_stock.csv\", index=False, header=True)"
   ]
  },
  {
   "cell_type": "code",
   "execution_count": 10,
   "metadata": {},
   "outputs": [
    {
     "data": {
      "text/html": [
       "<div>\n",
       "<style scoped>\n",
       "    .dataframe tbody tr th:only-of-type {\n",
       "        vertical-align: middle;\n",
       "    }\n",
       "\n",
       "    .dataframe tbody tr th {\n",
       "        vertical-align: top;\n",
       "    }\n",
       "\n",
       "    .dataframe thead th {\n",
       "        text-align: right;\n",
       "    }\n",
       "</style>\n",
       "<table border=\"1\" class=\"dataframe\">\n",
       "  <thead>\n",
       "    <tr style=\"text-align: right;\">\n",
       "      <th></th>\n",
       "      <th>date</th>\n",
       "      <th>open</th>\n",
       "      <th>high</th>\n",
       "      <th>low</th>\n",
       "      <th>close</th>\n",
       "      <th>volume</th>\n",
       "      <th>coffeePrice</th>\n",
       "    </tr>\n",
       "  </thead>\n",
       "  <tbody>\n",
       "    <tr>\n",
       "      <th>0</th>\n",
       "      <td>1992-06-29</td>\n",
       "      <td>0.3398</td>\n",
       "      <td>0.3672</td>\n",
       "      <td>0.3320</td>\n",
       "      <td>0.3594</td>\n",
       "      <td>58732800</td>\n",
       "      <td>0.5774</td>\n",
       "    </tr>\n",
       "    <tr>\n",
       "      <th>1</th>\n",
       "      <td>1992-06-30</td>\n",
       "      <td>0.3672</td>\n",
       "      <td>0.3711</td>\n",
       "      <td>0.3438</td>\n",
       "      <td>0.3477</td>\n",
       "      <td>34777600</td>\n",
       "      <td>0.5760</td>\n",
       "    </tr>\n",
       "    <tr>\n",
       "      <th>2</th>\n",
       "      <td>1992-07-01</td>\n",
       "      <td>0.3516</td>\n",
       "      <td>0.3594</td>\n",
       "      <td>0.3398</td>\n",
       "      <td>0.3555</td>\n",
       "      <td>18316800</td>\n",
       "      <td>0.5940</td>\n",
       "    </tr>\n",
       "    <tr>\n",
       "      <th>3</th>\n",
       "      <td>1992-07-02</td>\n",
       "      <td>0.3594</td>\n",
       "      <td>0.3594</td>\n",
       "      <td>0.3477</td>\n",
       "      <td>0.3555</td>\n",
       "      <td>13996800</td>\n",
       "      <td>0.6000</td>\n",
       "    </tr>\n",
       "    <tr>\n",
       "      <th>4</th>\n",
       "      <td>1992-07-06</td>\n",
       "      <td>0.3516</td>\n",
       "      <td>0.3555</td>\n",
       "      <td>0.3477</td>\n",
       "      <td>0.3555</td>\n",
       "      <td>5753600</td>\n",
       "      <td>0.5930</td>\n",
       "    </tr>\n",
       "  </tbody>\n",
       "</table>\n",
       "</div>"
      ],
      "text/plain": [
       "         date    open    high     low   close    volume  coffeePrice\n",
       "0  1992-06-29  0.3398  0.3672  0.3320  0.3594  58732800       0.5774\n",
       "1  1992-06-30  0.3672  0.3711  0.3438  0.3477  34777600       0.5760\n",
       "2  1992-07-01  0.3516  0.3594  0.3398  0.3555  18316800       0.5940\n",
       "3  1992-07-02  0.3594  0.3594  0.3477  0.3555  13996800       0.6000\n",
       "4  1992-07-06  0.3516  0.3555  0.3477  0.3555   5753600       0.5930"
      ]
     },
     "execution_count": 10,
     "metadata": {},
     "output_type": "execute_result"
    }
   ],
   "source": [
    "cofeAll.head()"
   ]
  },
  {
   "cell_type": "code",
   "execution_count": 11,
   "metadata": {
    "scrolled": false
   },
   "outputs": [
    {
     "data": {
      "text/plain": [
       "dtype('float64')"
      ]
     },
     "execution_count": 11,
     "metadata": {},
     "output_type": "execute_result"
    }
   ],
   "source": [
    "cofeAll['coffeePrice'].dtype"
   ]
  },
  {
   "cell_type": "markdown",
   "metadata": {},
   "source": [
    "---\n",
    "## Messing Around With Coffee/Stock Influence\n"
   ]
  },
  {
   "cell_type": "code",
   "execution_count": 12,
   "metadata": {},
   "outputs": [
    {
     "data": {
      "text/html": [
       "<div>\n",
       "<style scoped>\n",
       "    .dataframe tbody tr th:only-of-type {\n",
       "        vertical-align: middle;\n",
       "    }\n",
       "\n",
       "    .dataframe tbody tr th {\n",
       "        vertical-align: top;\n",
       "    }\n",
       "\n",
       "    .dataframe thead th {\n",
       "        text-align: right;\n",
       "    }\n",
       "</style>\n",
       "<table border=\"1\" class=\"dataframe\">\n",
       "  <thead>\n",
       "    <tr style=\"text-align: right;\">\n",
       "      <th></th>\n",
       "      <th>open</th>\n",
       "      <th>high</th>\n",
       "      <th>low</th>\n",
       "      <th>close</th>\n",
       "      <th>volume</th>\n",
       "      <th>coffeePrice</th>\n",
       "    </tr>\n",
       "  </thead>\n",
       "  <tbody>\n",
       "    <tr>\n",
       "      <th>open</th>\n",
       "      <td>1.000000</td>\n",
       "      <td>0.999945</td>\n",
       "      <td>0.999939</td>\n",
       "      <td>0.999886</td>\n",
       "      <td>-0.252771</td>\n",
       "      <td>0.182760</td>\n",
       "    </tr>\n",
       "    <tr>\n",
       "      <th>high</th>\n",
       "      <td>0.999945</td>\n",
       "      <td>1.000000</td>\n",
       "      <td>0.999919</td>\n",
       "      <td>0.999951</td>\n",
       "      <td>-0.251152</td>\n",
       "      <td>0.182800</td>\n",
       "    </tr>\n",
       "    <tr>\n",
       "      <th>low</th>\n",
       "      <td>0.999939</td>\n",
       "      <td>0.999919</td>\n",
       "      <td>1.000000</td>\n",
       "      <td>0.999938</td>\n",
       "      <td>-0.254225</td>\n",
       "      <td>0.182665</td>\n",
       "    </tr>\n",
       "    <tr>\n",
       "      <th>close</th>\n",
       "      <td>0.999886</td>\n",
       "      <td>0.999951</td>\n",
       "      <td>0.999938</td>\n",
       "      <td>1.000000</td>\n",
       "      <td>-0.252466</td>\n",
       "      <td>0.182749</td>\n",
       "    </tr>\n",
       "    <tr>\n",
       "      <th>volume</th>\n",
       "      <td>-0.252771</td>\n",
       "      <td>-0.251152</td>\n",
       "      <td>-0.254225</td>\n",
       "      <td>-0.252466</td>\n",
       "      <td>1.000000</td>\n",
       "      <td>-0.009751</td>\n",
       "    </tr>\n",
       "    <tr>\n",
       "      <th>coffeePrice</th>\n",
       "      <td>0.182760</td>\n",
       "      <td>0.182800</td>\n",
       "      <td>0.182665</td>\n",
       "      <td>0.182749</td>\n",
       "      <td>-0.009751</td>\n",
       "      <td>1.000000</td>\n",
       "    </tr>\n",
       "  </tbody>\n",
       "</table>\n",
       "</div>"
      ],
      "text/plain": [
       "                 open      high       low     close    volume  coffeePrice\n",
       "open         1.000000  0.999945  0.999939  0.999886 -0.252771     0.182760\n",
       "high         0.999945  1.000000  0.999919  0.999951 -0.251152     0.182800\n",
       "low          0.999939  0.999919  1.000000  0.999938 -0.254225     0.182665\n",
       "close        0.999886  0.999951  0.999938  1.000000 -0.252466     0.182749\n",
       "volume      -0.252771 -0.251152 -0.254225 -0.252466  1.000000    -0.009751\n",
       "coffeePrice  0.182760  0.182800  0.182665  0.182749 -0.009751     1.000000"
      ]
     },
     "execution_count": 12,
     "metadata": {},
     "output_type": "execute_result"
    }
   ],
   "source": [
    "cofeAll.corr()"
   ]
  },
  {
   "cell_type": "code",
   "execution_count": 13,
   "metadata": {},
   "outputs": [
    {
     "name": "stdout",
     "output_type": "stream",
     "text": [
      "                            OLS Regression Results                            \n",
      "==============================================================================\n",
      "Dep. Variable:                  close   R-squared:                       0.064\n",
      "Model:                            OLS   Adj. R-squared:                  0.064\n",
      "Method:                 Least Squares   F-statistic:                     460.6\n",
      "Date:                Tue, 09 Jul 2019   Prob (F-statistic):           6.82e-99\n",
      "Time:                        10:43:24   Log-Likelihood:                -29786.\n",
      "No. Observations:                6767   AIC:                         5.958e+04\n",
      "Df Residuals:                    6765   BIC:                         5.959e+04\n",
      "Df Model:                           1                                         \n",
      "Covariance Type:            nonrobust                                         \n",
      "==============================================================================\n",
      "                 coef    std err          t      P>|t|      [0.025      0.975]\n",
      "------------------------------------------------------------------------------\n",
      "Intercept     24.3936      0.366     66.710      0.000      23.677      25.110\n",
      "volume     -3.712e-07   1.73e-08    -21.460      0.000   -4.05e-07   -3.37e-07\n",
      "==============================================================================\n",
      "Omnibus:                     1335.645   Durbin-Watson:                   0.076\n",
      "Prob(Omnibus):                  0.000   Jarque-Bera (JB):             2423.788\n",
      "Skew:                           1.245   Prob(JB):                         0.00\n",
      "Kurtosis:                       4.549   Cond. No.                     3.22e+07\n",
      "==============================================================================\n",
      "\n",
      "Warnings:\n",
      "[1] Standard Errors assume that the covariance matrix of the errors is correctly specified.\n",
      "[2] The condition number is large, 3.22e+07. This might indicate that there are\n",
      "strong multicollinearity or other numerical problems.\n"
     ]
    }
   ],
   "source": [
    "# Ordinary Least Squares linear regression on volumes impact on stock price\n",
    "# assuming that more trades = more flux\n",
    "result = smf.ols('close ~ volume', data=cofeAll).fit()\n",
    "print(result.summary())"
   ]
  },
  {
   "cell_type": "code",
   "execution_count": 14,
   "metadata": {
    "scrolled": false
   },
   "outputs": [
    {
     "name": "stdout",
     "output_type": "stream",
     "text": [
      "                            OLS Regression Results                            \n",
      "==============================================================================\n",
      "Dep. Variable:                  close   R-squared:                       0.033\n",
      "Model:                            OLS   Adj. R-squared:                  0.033\n",
      "Method:                 Least Squares   F-statistic:                     233.7\n",
      "Date:                Tue, 09 Jul 2019   Prob (F-statistic):           6.68e-52\n",
      "Time:                        10:44:17   Log-Likelihood:                -29894.\n",
      "No. Observations:                6767   AIC:                         5.979e+04\n",
      "Df Residuals:                    6765   BIC:                         5.981e+04\n",
      "Df Model:                           1                                         \n",
      "Covariance Type:            nonrobust                                         \n",
      "===============================================================================\n",
      "                  coef    std err          t      P>|t|      [0.025      0.975]\n",
      "-------------------------------------------------------------------------------\n",
      "Intercept       8.8471      0.675     13.102      0.000       7.523      10.171\n",
      "coffeePrice     7.8334      0.512     15.288      0.000       6.829       8.838\n",
      "==============================================================================\n",
      "Omnibus:                     1199.183   Durbin-Watson:                   0.000\n",
      "Prob(Omnibus):                  0.000   Jarque-Bera (JB):             1934.417\n",
      "Skew:                           1.281   Prob(JB):                         0.00\n",
      "Kurtosis:                       3.548   Cond. No.                         5.57\n",
      "==============================================================================\n",
      "\n",
      "Warnings:\n",
      "[1] Standard Errors assume that the covariance matrix of the errors is correctly specified.\n"
     ]
    }
   ],
   "source": [
    "result2 = smf.ols('close ~ coffeePrice',data=cofeAll).fit()\n",
    "print(result2.summary())"
   ]
  },
  {
   "cell_type": "markdown",
   "metadata": {},
   "source": [
    "### Linear Regression"
   ]
  },
  {
   "cell_type": "code",
   "execution_count": 15,
   "metadata": {},
   "outputs": [],
   "source": [
    "from sklearn.linear_model import LinearRegression"
   ]
  },
  {
   "cell_type": "code",
   "execution_count": 16,
   "metadata": {},
   "outputs": [
    {
     "data": {
      "text/plain": [
       "LinearRegression(copy_X=True, fit_intercept=True, n_jobs=None,\n",
       "         normalize=False)"
      ]
     },
     "execution_count": 16,
     "metadata": {},
     "output_type": "execute_result"
    }
   ],
   "source": [
    "lm = LinearRegression()\n",
    "lm"
   ]
  },
  {
   "cell_type": "code",
   "execution_count": 19,
   "metadata": {},
   "outputs": [],
   "source": [
    "cofStok = cofeAll.drop(['open','high','low'], axis=1)"
   ]
  },
  {
   "cell_type": "code",
   "execution_count": 21,
   "metadata": {},
   "outputs": [
    {
     "data": {
      "text/html": [
       "<div>\n",
       "<style scoped>\n",
       "    .dataframe tbody tr th:only-of-type {\n",
       "        vertical-align: middle;\n",
       "    }\n",
       "\n",
       "    .dataframe tbody tr th {\n",
       "        vertical-align: top;\n",
       "    }\n",
       "\n",
       "    .dataframe thead th {\n",
       "        text-align: right;\n",
       "    }\n",
       "</style>\n",
       "<table border=\"1\" class=\"dataframe\">\n",
       "  <thead>\n",
       "    <tr style=\"text-align: right;\">\n",
       "      <th></th>\n",
       "      <th>date</th>\n",
       "      <th>close</th>\n",
       "      <th>volume</th>\n",
       "      <th>coffeePrice</th>\n",
       "    </tr>\n",
       "  </thead>\n",
       "  <tbody>\n",
       "    <tr>\n",
       "      <th>0</th>\n",
       "      <td>1992-06-29</td>\n",
       "      <td>0.3594</td>\n",
       "      <td>58732800</td>\n",
       "      <td>0.5774</td>\n",
       "    </tr>\n",
       "    <tr>\n",
       "      <th>1</th>\n",
       "      <td>1992-06-30</td>\n",
       "      <td>0.3477</td>\n",
       "      <td>34777600</td>\n",
       "      <td>0.5760</td>\n",
       "    </tr>\n",
       "    <tr>\n",
       "      <th>2</th>\n",
       "      <td>1992-07-01</td>\n",
       "      <td>0.3555</td>\n",
       "      <td>18316800</td>\n",
       "      <td>0.5940</td>\n",
       "    </tr>\n",
       "    <tr>\n",
       "      <th>3</th>\n",
       "      <td>1992-07-02</td>\n",
       "      <td>0.3555</td>\n",
       "      <td>13996800</td>\n",
       "      <td>0.6000</td>\n",
       "    </tr>\n",
       "    <tr>\n",
       "      <th>4</th>\n",
       "      <td>1992-07-06</td>\n",
       "      <td>0.3555</td>\n",
       "      <td>5753600</td>\n",
       "      <td>0.5930</td>\n",
       "    </tr>\n",
       "  </tbody>\n",
       "</table>\n",
       "</div>"
      ],
      "text/plain": [
       "         date   close    volume  coffeePrice\n",
       "0  1992-06-29  0.3594  58732800       0.5774\n",
       "1  1992-06-30  0.3477  34777600       0.5760\n",
       "2  1992-07-01  0.3555  18316800       0.5940\n",
       "3  1992-07-02  0.3555  13996800       0.6000\n",
       "4  1992-07-06  0.3555   5753600       0.5930"
      ]
     },
     "execution_count": 21,
     "metadata": {},
     "output_type": "execute_result"
    }
   ],
   "source": [
    "cofStok.head()"
   ]
  },
  {
   "cell_type": "code",
   "execution_count": 22,
   "metadata": {},
   "outputs": [],
   "source": [
    "#cofStok.to_csv(\"coffee_stock_cleaned.csv\", index=False, header=True)"
   ]
  },
  {
   "cell_type": "code",
   "execution_count": 27,
   "metadata": {},
   "outputs": [],
   "source": [
    "# setting up our X variable (here the stock price)\n",
    "X = cofStok.drop(['close','date'], axis=1)"
   ]
  },
  {
   "cell_type": "code",
   "execution_count": 28,
   "metadata": {},
   "outputs": [
    {
     "data": {
      "text/plain": [
       "LinearRegression(copy_X=True, fit_intercept=True, n_jobs=None,\n",
       "         normalize=False)"
      ]
     },
     "execution_count": 28,
     "metadata": {},
     "output_type": "execute_result"
    }
   ],
   "source": [
    "lm.fit(X, cofStok['close'])"
   ]
  },
  {
   "cell_type": "code",
   "execution_count": 29,
   "metadata": {},
   "outputs": [
    {
     "name": "stdout",
     "output_type": "stream",
     "text": [
      "Estimated intercept coefficient:  14.854728245478157\n"
     ]
    }
   ],
   "source": [
    "print('Estimated intercept coefficient: ',lm.intercept_)"
   ]
  },
  {
   "cell_type": "code",
   "execution_count": 30,
   "metadata": {},
   "outputs": [
    {
     "data": {
      "text/plain": [
       "0.09624571904650459"
      ]
     },
     "execution_count": 30,
     "metadata": {},
     "output_type": "execute_result"
    }
   ],
   "source": [
    "lm.score(X, cofStok['close'])"
   ]
  },
  {
   "cell_type": "code",
   "execution_count": 37,
   "metadata": {},
   "outputs": [
    {
     "data": {
      "image/png": "[encoded data removed]",
      "text/plain": [
       "<Figure size 1080x1080 with 1 Axes>"
      ]
     },
     "metadata": {
      "needs_background": "light"
     },
     "output_type": "display_data"
    },
    {
     "ename": "NameError",
     "evalue": "name 'savefig' is not defined",
     "output_type": "error",
     "traceback": [
      "\u001b[1;31m---------------------------------------------------------------------------\u001b[0m",
      "\u001b[1;31mNameError\u001b[0m                                 Traceback (most recent call last)",
      "\u001b[1;32m<ipython-input-37-0d042b54b7cd>\u001b[0m in \u001b[0;36m<module>\u001b[1;34m\u001b[0m\n\u001b[0;32m      5\u001b[0m \u001b[0mplt\u001b[0m\u001b[1;33m.\u001b[0m\u001b[0mtitle\u001b[0m\u001b[1;33m(\u001b[0m\u001b[1;34m\"Coffee vs. SBUX\"\u001b[0m\u001b[1;33m,\u001b[0m \u001b[0mfontsize\u001b[0m\u001b[1;33m=\u001b[0m\u001b[1;36m18\u001b[0m\u001b[1;33m)\u001b[0m\u001b[1;33m\u001b[0m\u001b[1;33m\u001b[0m\u001b[0m\n\u001b[0;32m      6\u001b[0m \u001b[0mplt\u001b[0m\u001b[1;33m.\u001b[0m\u001b[0mshow\u001b[0m\u001b[1;33m(\u001b[0m\u001b[1;33m)\u001b[0m\u001b[1;33m\u001b[0m\u001b[1;33m\u001b[0m\u001b[0m\n\u001b[1;32m----> 7\u001b[1;33m \u001b[0msavefig\u001b[0m\u001b[1;33m(\u001b[0m\u001b[1;34m\"coffee_sbux_chart1.png\"\u001b[0m\u001b[1;33m)\u001b[0m\u001b[1;33m\u001b[0m\u001b[1;33m\u001b[0m\u001b[0m\n\u001b[0m",
      "\u001b[1;31mNameError\u001b[0m: name 'savefig' is not defined"
     ]
    }
   ],
   "source": [
    "plt.figure(figsize=(15,15))\n",
    "plt.scatter(cofStok['coffeePrice'],lm.predict(X))\n",
    "plt.xlabel(\"Price of Coffee (Real $)\")\n",
    "plt.ylabel(\"SBUX Stock (Real $)\")\n",
    "plt.title(\"Coffee vs. SBUX\", fontsize=18)\n",
    "plt.show()\n",
    "savefig(\"coffee_sbux_chart1.png\")"
   ]
  },
  {
   "cell_type": "code",
   "execution_count": null,
   "metadata": {},
   "outputs": [],
   "source": []
  },
  {
   "cell_type": "code",
   "execution_count": null,
   "metadata": {},
   "outputs": [],
   "source": []
  },
  {
   "cell_type": "code",
   "execution_count": null,
   "metadata": {},
   "outputs": [],
   "source": []
  },
  {
   "cell_type": "code",
   "execution_count": null,
   "metadata": {},
   "outputs": [],
   "source": []
  }
 ],
 "metadata": {
  "kernelspec": {
   "display_name": "Python 3",
   "language": "python",
   "name": "python3"
  },
  "language_info": {
   "codemirror_mode": {
    "name": "ipython",
    "version": 3
   },
   "file_extension": ".py",
   "mimetype": "text/x-python",
   "name": "python",
   "nbconvert_exporter": "python",
   "pygments_lexer": "ipython3",
   "version": "3.7.3"
  }
 },
 "nbformat": 4,
 "nbformat_minor": 2
}
